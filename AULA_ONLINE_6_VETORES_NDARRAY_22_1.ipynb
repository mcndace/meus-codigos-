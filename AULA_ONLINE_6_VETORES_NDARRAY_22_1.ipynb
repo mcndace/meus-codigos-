{
  "nbformat": 4,
  "nbformat_minor": 0,
  "metadata": {
    "colab": {
      "name": "AULA ONLINE 6 VETORES NDARRAY 22-1.ipynb",
      "provenance": [],
      "collapsed_sections": [
        "Qd_XKh9o-fd7"
      ],
      "include_colab_link": true
    },
    "kernelspec": {
      "name": "python3",
      "display_name": "Python 3"
    }
  },
  "cells": [
    {
      "cell_type": "markdown",
      "metadata": {
        "id": "view-in-github",
        "colab_type": "text"
      },
      "source": [
        "<a href=\"https://colab.research.google.com/github/mcndace/meus-codigos-/blob/main/AULA_ONLINE_6_VETORES_NDARRAY_22_1.ipynb\" target=\"_parent\"><img src=\"https://colab.research.google.com/assets/colab-badge.svg\" alt=\"Open In Colab\"/></a>"
      ]
    },
    {
      "cell_type": "markdown",
      "metadata": {
        "id": "G90zxY79qIXe"
      },
      "source": [
        "<?xml version=\"1.0\" encoding=\"UTF-8\"?>\n",
        "<html>\n",
        "  <body>\n",
        "    <header></header>\n",
        "        <CENTER>\n",
        "          <img src=\"https://www.uvv.br/wp-content/themes/uvvBr/templates/assets//img/logouvv.svg\" alt=\"UVV-LOGO\" style = width=\"100px\"; height=\"100px\">\n",
        "        </CENTER>\n",
        "        <CENTER><b>Introdução à Programação de Computadores - PYTHON</b></CENTER>\n",
        "        <CENTER><b>Prof.: Erlon Pinheiro</b>\n",
        "        <CENTER><b>Aula Online 6</b></CENTER><br/>"
      ]
    },
    {
      "cell_type": "markdown",
      "metadata": {
        "id": "yZfJjeQgqTo_"
      },
      "source": [
        "# O que vamos estudar:\n",
        "\n",
        "$\\longmapsto$ <b>Tópico 07</b> - INTRODUÇÃO À ESTRUTURA DE DADOS HOMOGÊNEA - MATRIZ: <b>NDARRAY</b>"
      ]
    },
    {
      "cell_type": "markdown",
      "metadata": {
        "id": "t-hNPW5FPyHE"
      },
      "source": [
        "# Tópico 07 - INTRODUÇÃO À ESTRUTURA DE DADOS HOMOGÊNEA - MATRIZ: <b>NDARRAY</b>."
      ]
    },
    {
      "cell_type": "markdown",
      "metadata": {
        "id": "_Kanz0T-rhol"
      },
      "source": [
        "## Definição de Estrutura de dados: "
      ]
    },
    {
      "cell_type": "markdown",
      "metadata": {
        "id": "v-j2M6_Bk0ic"
      },
      "source": [
        "$\\longmapsto$ <b> É justamente o recurso de programação responsável por alocar espaços na memória (primária - RAM) e armazenar simultaneamente grandes quantidades de dados."
      ]
    },
    {
      "cell_type": "markdown",
      "metadata": {
        "id": "eCrT36oorl59"
      },
      "source": [
        "## Tipos de Estrutura de dados:\n"
      ]
    },
    {
      "cell_type": "markdown",
      "metadata": {
        "id": "NAhqfaCykvzL"
      },
      "source": [
        "*   **ALOCAÇÃO DE MEMÓRIA:** Estáticas x Dinâmicas.\n",
        "*   **TIPOS DE DADOS:** Homogêneos (mesmo tipo) x Heterogêneos (tipos diferentes).\n",
        "*   **TIPOS DE DADOS:** Homogêneos (Dados Numéricos: Quantitativos) x Heterogêneos (MetaDados: Quantitativos + Qualitativos)."
      ]
    },
    {
      "cell_type": "markdown",
      "metadata": {
        "id": "BJpFc1MMjTt3"
      },
      "source": [
        "**Outros exemplos de estruturas de dados Python:**"
      ]
    },
    {
      "cell_type": "code",
      "metadata": {
        "id": "Hez5Y9m_iM8J"
      },
      "source": [
        "tupla = (1, 2, 'ES', True, 34.7)"
      ],
      "execution_count": null,
      "outputs": []
    },
    {
      "cell_type": "code",
      "metadata": {
        "id": "pELywqQBi2QH"
      },
      "source": [
        "mydict = {}"
      ],
      "execution_count": null,
      "outputs": []
    },
    {
      "cell_type": "code",
      "metadata": {
        "id": "ytSmZZe0jAGP"
      },
      "source": [
        "mylist = []"
      ],
      "execution_count": null,
      "outputs": []
    },
    {
      "cell_type": "code",
      "metadata": {
        "colab": {
          "base_uri": "https://localhost:8080/"
        },
        "id": "FeSC9UbpiT6r",
        "outputId": "1e398ecd-828a-4f15-9b57-a229f9a7f3bd"
      },
      "source": [
        "type(tupla)"
      ],
      "execution_count": null,
      "outputs": [
        {
          "output_type": "execute_result",
          "data": {
            "text/plain": [
              "tuple"
            ]
          },
          "metadata": {},
          "execution_count": 4
        }
      ]
    },
    {
      "cell_type": "code",
      "metadata": {
        "colab": {
          "base_uri": "https://localhost:8080/"
        },
        "id": "TVBux17Ji7Yh",
        "outputId": "0ed38e07-adcb-407b-ce0d-abc0ff1c4a30"
      },
      "source": [
        "type(mydict)"
      ],
      "execution_count": null,
      "outputs": [
        {
          "output_type": "execute_result",
          "data": {
            "text/plain": [
              "dict"
            ]
          },
          "metadata": {},
          "execution_count": 5
        }
      ]
    },
    {
      "cell_type": "code",
      "metadata": {
        "colab": {
          "base_uri": "https://localhost:8080/"
        },
        "id": "5xLqMKThjEt9",
        "outputId": "01fd8970-d12a-4e0a-8a1f-49a2754f98b6"
      },
      "source": [
        "type(mylist)"
      ],
      "execution_count": null,
      "outputs": [
        {
          "output_type": "execute_result",
          "data": {
            "text/plain": [
              "list"
            ]
          },
          "metadata": {},
          "execution_count": 6
        }
      ]
    },
    {
      "cell_type": "markdown",
      "metadata": {
        "id": "RxjNWcV7jxp6"
      },
      "source": [
        "## Modelagem de problemas computacionais 1D: VETOR"
      ]
    },
    {
      "cell_type": "markdown",
      "metadata": {
        "id": "qWLLeT1-k9uQ"
      },
      "source": [
        "**Como manipular grandes quantidades de dados ?**\n",
        "\n",
        "$\\longmapsto$  **NDARRAY:** MATRIZ: HOMOGÊNEA + ESTÁTICA + MULTIDIMENSIONAL."
      ]
    },
    {
      "cell_type": "markdown",
      "metadata": {
        "id": "m66VBQfFj9nH"
      },
      "source": [
        "<center>\n",
        "\n",
        "![image.png](data:image/png;base64,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)\n",
        "\n",
        "</center>"
      ]
    },
    {
      "cell_type": "markdown",
      "metadata": {
        "id": "2PxUPWUylKtA"
      },
      "source": [
        "**Índices (index)**:  São **números inteiros (quaisquer)** usados justamente para acessar os valores armazenados numa matriz (array)."
      ]
    },
    {
      "cell_type": "markdown",
      "metadata": {
        "id": "G9BuoqIVnyEK"
      },
      "source": [
        "## Módulo Numeric Python - NUMPY:"
      ]
    },
    {
      "cell_type": "markdown",
      "metadata": {
        "id": "nIsIr4GYxmqj"
      },
      "source": [
        "### Preenchendo os dados do vetor (array):\n",
        "\n",
        "$\\longmapsto$ **USUÁRIO**: comando input\n",
        "\n",
        "$\\longmapsto$ **SIMULAÇÃO**: módulo random: normal, randint, choice\n",
        "\n",
        "$\\longmapsto$ **ARQUIVO**: csv, excel, json, ..."
      ]
    },
    {
      "cell_type": "markdown",
      "metadata": {
        "id": "R55Hpm_kk-Xk"
      },
      "source": [
        "Livro Original do Numeric Python: [link text](https://web.mit.edu/dvp/Public/numpybook.pdf)"
      ]
    },
    {
      "cell_type": "code",
      "metadata": {
        "id": "cJRZQ5OPn7lg"
      },
      "source": [
        "import numpy"
      ],
      "execution_count": null,
      "outputs": []
    },
    {
      "cell_type": "code",
      "metadata": {
        "id": "8vNIVyLBoB1g"
      },
      "source": [
        "# ALOCAÇÃO DE ESPAÇO DE MEMÓRIA: função zeros\n",
        "ALUNOS = 100                    # 50 Alunos\n",
        "AOP1 = numpy.zeros(ALUNOS)"
      ],
      "execution_count": null,
      "outputs": []
    },
    {
      "cell_type": "code",
      "metadata": {
        "id": "8GNOrAislpat"
      },
      "source": [
        "AOP1"
      ],
      "execution_count": null,
      "outputs": []
    },
    {
      "cell_type": "markdown",
      "metadata": {
        "id": "SrOp7RrPyQPp"
      },
      "source": [
        "$\\longmapsto$ USUÁRIO: comando input"
      ]
    },
    {
      "cell_type": "code",
      "metadata": {
        "id": "nv0CSmeqySl4"
      },
      "source": [
        "print('Ler os dados: 50 Alunos da AOP1: Atividade Online Pontuada 1:')\n",
        "index  = 0                                      # Index[0, TAM - 1]: Índice (Linhas)\n",
        "while index < ALUNOS:\n",
        "    AOP1[index] = float(input(f'Nota [0.0, 1.0] do Aluno {index + 1}:  '))\n",
        "    # TRATAMENTO DE ERRO:\n",
        "    if AOP1[index] < 0.0 or AOP1[index] > 1.0:\n",
        "      print('Erro na digitação da nota AOP1 [0.0, 1.0]. Escolha de novo.')\n",
        "    else:\n",
        "      index += 1"
      ],
      "execution_count": null,
      "outputs": []
    },
    {
      "cell_type": "code",
      "metadata": {
        "id": "b0ceOJNf0Sip",
        "colab": {
          "base_uri": "https://localhost:8080/"
        },
        "outputId": "477fafab-7ad4-48ee-fb13-0df059ece317"
      },
      "source": [
        "AOP1"
      ],
      "execution_count": null,
      "outputs": [
        {
          "output_type": "execute_result",
          "data": {
            "text/plain": [
              "array([1., 1., 1., 1., 1.])"
            ]
          },
          "metadata": {},
          "execution_count": 17
        }
      ]
    },
    {
      "cell_type": "markdown",
      "metadata": {
        "id": "A1D1tCKXzyVq"
      },
      "source": [
        "$\\longmapsto$ **SIMULAÇÃO**: módulo random: normal, randint, choice\n",
        "\n",
        "O que é **Distribuição Normal** (numpy.random.normal)? [Clique aqui!](https://pt.wikipedia.org/wiki/Distribui%C3%A7%C3%A3o_normal)\n",
        "\n",
        "O que é **Distribuição Uniforme** (numpy.random.randint)? [Clique aqui!](https://pt.wikipedia.org/wiki/Distribui%C3%A7%C3%A3o_uniforme)"
      ]
    },
    {
      "cell_type": "code",
      "metadata": {
        "id": "j9hrDR6RouSj",
        "colab": {
          "base_uri": "https://localhost:8080/"
        },
        "outputId": "6a1fdfa0-b154-4fe1-b478-ae05162043dc"
      },
      "source": [
        "# SIMULAÇÃO DE DADOS: RANDOM NORMAL: DISTRIBUIÇÃO NORMAL (VIÉS).\n",
        "MEDIA = 0.7\n",
        "DESVIO = 0.1\n",
        "AOP1 = numpy.random.normal(MEDIA, DESVIO, ALUNOS)\n",
        "AOP1    # DATASET"
      ],
      "execution_count": null,
      "outputs": [
        {
          "output_type": "execute_result",
          "data": {
            "text/plain": [
              "array([0.57266548, 0.60337344, 0.71522305, 0.9578503 , 0.59938947,\n",
              "       0.64540659, 0.61601795, 0.79107067, 0.81276147, 0.84935383,\n",
              "       0.64622763, 0.584982  , 0.77631524, 0.65099102, 0.75450156,\n",
              "       0.83071528, 0.65640177, 0.62808237, 0.59631553, 0.67736661,\n",
              "       0.82530864, 0.67052026, 0.53119319, 0.37131828, 0.83435012,\n",
              "       0.55665014, 0.6588527 , 0.61123812, 0.57472378, 0.67647797,\n",
              "       0.91714897, 0.66348746, 0.570594  , 0.72325934, 0.54507878,\n",
              "       0.88280816, 0.79259662, 0.74958311, 0.77991471, 0.64798855,\n",
              "       0.63900613, 0.75250048, 0.88243901, 0.47018802, 0.45064988,\n",
              "       0.72287852, 0.72875526, 0.81902313, 0.6330957 , 0.73210919,\n",
              "       0.73811002, 0.74654128, 0.6699155 , 0.60296069, 0.66888841,\n",
              "       0.91366428, 0.70529212, 0.89632937, 0.74309567, 0.71544489,\n",
              "       0.70069016, 0.84100883, 0.69583486, 0.57941259, 0.56171917,\n",
              "       0.75656418, 0.60857234, 0.62898241, 0.69217623, 0.62047783,\n",
              "       0.81344818, 0.76174133, 0.67417846, 0.67516378, 0.89728168,\n",
              "       0.7926984 , 0.81341543, 0.74252441, 0.94417921, 0.69581821,\n",
              "       0.73608517, 0.5924405 , 0.97257528, 0.64432688, 0.67965457,\n",
              "       0.71339597, 0.77059398, 0.68962939, 0.78136743, 0.64919384,\n",
              "       0.69763898, 0.65485837, 0.91960342, 0.6472362 , 0.42734337,\n",
              "       0.61430293, 0.59019795, 0.73534339, 0.76104623, 0.8478168 ])"
            ]
          },
          "metadata": {},
          "execution_count": 25
        }
      ]
    },
    {
      "cell_type": "code",
      "metadata": {
        "colab": {
          "base_uri": "https://localhost:8080/"
        },
        "id": "UHqmEOfzoA1C",
        "outputId": "2224d348-c235-4cce-be5e-9a2e274d1470"
      },
      "source": [
        "AOP1.max()"
      ],
      "execution_count": null,
      "outputs": [
        {
          "output_type": "execute_result",
          "data": {
            "text/plain": [
              "0.9725752835301397"
            ]
          },
          "metadata": {},
          "execution_count": 26
        }
      ]
    },
    {
      "cell_type": "markdown",
      "metadata": {
        "id": "dFSo13S7s_0w"
      },
      "source": [
        "## Indexação:"
      ]
    },
    {
      "cell_type": "markdown",
      "metadata": {
        "id": "osvz3kBb19kJ"
      },
      "source": [
        "**Índices (index)**:  São **números inteiros (quaisquer)** usados justamente para acessar os valores armazenados numa matriz (array)."
      ]
    },
    {
      "cell_type": "code",
      "metadata": {
        "id": "VzuQLUZk5RQI",
        "colab": {
          "base_uri": "https://localhost:8080/"
        },
        "outputId": "adbe2a5e-d231-492e-f7f5-123acecf3eca"
      },
      "source": [
        "AOP1.sort()   # Método Ordenar\n",
        "AOP1"
      ],
      "execution_count": null,
      "outputs": [
        {
          "output_type": "execute_result",
          "data": {
            "text/plain": [
              "array([0.37131828, 0.42734337, 0.45064988, 0.47018802, 0.53119319,\n",
              "       0.54507878, 0.55665014, 0.56171917, 0.570594  , 0.57266548,\n",
              "       0.57472378, 0.57941259, 0.584982  , 0.59019795, 0.5924405 ,\n",
              "       0.59631553, 0.59938947, 0.60296069, 0.60337344, 0.60857234,\n",
              "       0.61123812, 0.61430293, 0.61601795, 0.62047783, 0.62808237,\n",
              "       0.62898241, 0.6330957 , 0.63900613, 0.64432688, 0.64540659,\n",
              "       0.64622763, 0.6472362 , 0.64798855, 0.64919384, 0.65099102,\n",
              "       0.65485837, 0.65640177, 0.6588527 , 0.66348746, 0.66888841,\n",
              "       0.6699155 , 0.67052026, 0.67417846, 0.67516378, 0.67647797,\n",
              "       0.67736661, 0.67965457, 0.68962939, 0.69217623, 0.69581821,\n",
              "       0.69583486, 0.69763898, 0.70069016, 0.70529212, 0.71339597,\n",
              "       0.71522305, 0.71544489, 0.72287852, 0.72325934, 0.72875526,\n",
              "       0.73210919, 0.73534339, 0.73608517, 0.73811002, 0.74252441,\n",
              "       0.74309567, 0.74654128, 0.74958311, 0.75250048, 0.75450156,\n",
              "       0.75656418, 0.76104623, 0.76174133, 0.77059398, 0.77631524,\n",
              "       0.77991471, 0.78136743, 0.79107067, 0.79259662, 0.7926984 ,\n",
              "       0.81276147, 0.81341543, 0.81344818, 0.81902313, 0.82530864,\n",
              "       0.83071528, 0.83435012, 0.84100883, 0.8478168 , 0.84935383,\n",
              "       0.88243901, 0.88280816, 0.89632937, 0.89728168, 0.91366428,\n",
              "       0.91714897, 0.91960342, 0.94417921, 0.9578503 , 0.97257528])"
            ]
          },
          "metadata": {},
          "execution_count": 27
        }
      ]
    },
    {
      "cell_type": "code",
      "metadata": {
        "id": "ywdtQUuF3qVT",
        "colab": {
          "base_uri": "https://localhost:8080/"
        },
        "outputId": "cd9699a8-1bf1-4476-f84a-5726f8c38a3c"
      },
      "source": [
        "\"\"\"\n",
        "INDEXAÇÃO POR VALORES DEFAULT (crescente):\n",
        "-> START: INÍCIO: 0\n",
        "-> STOP : FIM: 50 (não incluso)\n",
        "-> STEP : ITERAÇÃO: 1\n",
        "subdataset = dataset[start:stop:step]\n",
        "\"\"\"\n",
        "AOP1[0:50:1]"
      ],
      "execution_count": null,
      "outputs": [
        {
          "output_type": "execute_result",
          "data": {
            "text/plain": [
              "array([0.37131828, 0.42734337, 0.45064988, 0.47018802, 0.53119319,\n",
              "       0.54507878, 0.55665014, 0.56171917, 0.570594  , 0.57266548,\n",
              "       0.57472378, 0.57941259, 0.584982  , 0.59019795, 0.5924405 ,\n",
              "       0.59631553, 0.59938947, 0.60296069, 0.60337344, 0.60857234,\n",
              "       0.61123812, 0.61430293, 0.61601795, 0.62047783, 0.62808237,\n",
              "       0.62898241, 0.6330957 , 0.63900613, 0.64432688, 0.64540659,\n",
              "       0.64622763, 0.6472362 , 0.64798855, 0.64919384, 0.65099102,\n",
              "       0.65485837, 0.65640177, 0.6588527 , 0.66348746, 0.66888841,\n",
              "       0.6699155 , 0.67052026, 0.67417846, 0.67516378, 0.67647797,\n",
              "       0.67736661, 0.67965457, 0.68962939, 0.69217623, 0.69581821])"
            ]
          },
          "metadata": {},
          "execution_count": 28
        }
      ]
    },
    {
      "cell_type": "code",
      "metadata": {
        "id": "3nxmnEIw5J3Z",
        "colab": {
          "base_uri": "https://localhost:8080/"
        },
        "outputId": "247aa9c5-0002-470e-d992-b52e46c5fca1"
      },
      "source": [
        "\"\"\"\n",
        "INDEXAÇÃO POR VALORES DEFAULT (decrescente):\n",
        "-> START: INÍCIO: -1\n",
        "-> STOP: FIM: -50 (não incluso)\n",
        "-> STEP: ITERAÇÃO: -1\n",
        "\"\"\"\n",
        "AOP1[-1:-51:-1]"
      ],
      "execution_count": null,
      "outputs": [
        {
          "output_type": "execute_result",
          "data": {
            "text/plain": [
              "array([0.97257528, 0.9578503 , 0.94417921, 0.91960342, 0.91714897,\n",
              "       0.91366428, 0.89728168, 0.89632937, 0.88280816, 0.88243901,\n",
              "       0.84935383, 0.8478168 , 0.84100883, 0.83435012, 0.83071528,\n",
              "       0.82530864, 0.81902313, 0.81344818, 0.81341543, 0.81276147,\n",
              "       0.7926984 , 0.79259662, 0.79107067, 0.78136743, 0.77991471,\n",
              "       0.77631524, 0.77059398, 0.76174133, 0.76104623, 0.75656418,\n",
              "       0.75450156, 0.75250048, 0.74958311, 0.74654128, 0.74309567,\n",
              "       0.74252441, 0.73811002, 0.73608517, 0.73534339, 0.73210919,\n",
              "       0.72875526, 0.72325934, 0.72287852, 0.71544489, 0.71522305,\n",
              "       0.71339597, 0.70529212, 0.70069016, 0.69763898, 0.69583486])"
            ]
          },
          "metadata": {},
          "execution_count": 29
        }
      ]
    },
    {
      "cell_type": "code",
      "metadata": {
        "id": "PRCA8W4P4Rcb",
        "colab": {
          "base_uri": "https://localhost:8080/"
        },
        "outputId": "62467300-90e4-41b3-dd3d-3eefb282de0b"
      },
      "source": [
        "len(AOP1[::]) # Retorna o tamanho do vetor"
      ],
      "execution_count": null,
      "outputs": [
        {
          "output_type": "execute_result",
          "data": {
            "text/plain": [
              "100"
            ]
          },
          "metadata": {},
          "execution_count": 30
        }
      ]
    },
    {
      "cell_type": "code",
      "metadata": {
        "colab": {
          "base_uri": "https://localhost:8080/"
        },
        "id": "EXxRFnZZtk_8",
        "outputId": "f5e4afb7-6fd8-438a-b49e-df97cf8af8ec"
      },
      "source": [
        "AOP1[:25:1]"
      ],
      "execution_count": null,
      "outputs": [
        {
          "output_type": "execute_result",
          "data": {
            "text/plain": [
              "array([0.37131828, 0.42734337, 0.45064988, 0.47018802, 0.53119319,\n",
              "       0.54507878, 0.55665014, 0.56171917, 0.570594  , 0.57266548,\n",
              "       0.57472378, 0.57941259, 0.584982  , 0.59019795, 0.5924405 ,\n",
              "       0.59631553, 0.59938947, 0.60296069, 0.60337344, 0.60857234,\n",
              "       0.61123812, 0.61430293, 0.61601795, 0.62047783, 0.62808237])"
            ]
          },
          "metadata": {},
          "execution_count": 31
        }
      ]
    },
    {
      "cell_type": "code",
      "metadata": {
        "id": "qtLE2TJ94bvJ",
        "colab": {
          "base_uri": "https://localhost:8080/"
        },
        "outputId": "77e265a3-7e35-4956-f8dc-26a19a983e4b"
      },
      "source": [
        "len(AOP1[:25:1])"
      ],
      "execution_count": null,
      "outputs": [
        {
          "output_type": "execute_result",
          "data": {
            "text/plain": [
              "25"
            ]
          },
          "metadata": {},
          "execution_count": 32
        }
      ]
    },
    {
      "cell_type": "code",
      "metadata": {
        "id": "f7PrPoW74d-y",
        "colab": {
          "base_uri": "https://localhost:8080/"
        },
        "outputId": "2b2edb3f-e1f8-45aa-eeaf-67dc54e13f21"
      },
      "source": [
        "len(AOP1[::1])"
      ],
      "execution_count": null,
      "outputs": [
        {
          "output_type": "execute_result",
          "data": {
            "text/plain": [
              "100"
            ]
          },
          "metadata": {},
          "execution_count": 33
        }
      ]
    },
    {
      "cell_type": "code",
      "metadata": {
        "id": "8cMRAoku4s2C",
        "colab": {
          "base_uri": "https://localhost:8080/"
        },
        "outputId": "e35b7ce2-02ae-4c95-8898-d1d88c248a1c"
      },
      "source": [
        "AOP1[::2]"
      ],
      "execution_count": null,
      "outputs": [
        {
          "output_type": "execute_result",
          "data": {
            "text/plain": [
              "array([0.37131828, 0.45064988, 0.53119319, 0.55665014, 0.570594  ,\n",
              "       0.57472378, 0.584982  , 0.5924405 , 0.59938947, 0.60337344,\n",
              "       0.61123812, 0.61601795, 0.62808237, 0.6330957 , 0.64432688,\n",
              "       0.64622763, 0.64798855, 0.65099102, 0.65640177, 0.66348746,\n",
              "       0.6699155 , 0.67417846, 0.67647797, 0.67965457, 0.69217623,\n",
              "       0.69583486, 0.70069016, 0.71339597, 0.71544489, 0.72325934,\n",
              "       0.73210919, 0.73608517, 0.74252441, 0.74654128, 0.75250048,\n",
              "       0.75656418, 0.76174133, 0.77631524, 0.78136743, 0.79259662,\n",
              "       0.81276147, 0.81344818, 0.82530864, 0.83435012, 0.8478168 ,\n",
              "       0.88243901, 0.89632937, 0.91366428, 0.91960342, 0.9578503 ])"
            ]
          },
          "metadata": {},
          "execution_count": 34
        }
      ]
    },
    {
      "cell_type": "code",
      "metadata": {
        "id": "00y0QGfF4n2p",
        "colab": {
          "base_uri": "https://localhost:8080/"
        },
        "outputId": "03775d93-c2f0-47ab-c3d0-e763e3ec055f"
      },
      "source": [
        "len(AOP1[::2])"
      ],
      "execution_count": null,
      "outputs": [
        {
          "output_type": "execute_result",
          "data": {
            "text/plain": [
              "50"
            ]
          },
          "metadata": {},
          "execution_count": 35
        }
      ]
    },
    {
      "cell_type": "markdown",
      "metadata": {
        "id": "s6N-OfWf4z1J"
      },
      "source": [
        "### Fatiamento (Slicing): criar subconjuntos (subdatasets)"
      ]
    },
    {
      "cell_type": "code",
      "metadata": {
        "id": "PbvWB6FD45Ii",
        "colab": {
          "base_uri": "https://localhost:8080/"
        },
        "outputId": "8fd8ecff-555e-4ace-85bd-99b48229cdc9"
      },
      "source": [
        "AOP1[:5]    # INICIO = 0 (default), FIM = 5 (não incluso), ITERAÇÃO: 1(default)"
      ],
      "execution_count": null,
      "outputs": [
        {
          "output_type": "execute_result",
          "data": {
            "text/plain": [
              "array([0.37131828, 0.42734337, 0.45064988, 0.47018802, 0.53119319])"
            ]
          },
          "metadata": {},
          "execution_count": 36
        }
      ]
    },
    {
      "cell_type": "markdown",
      "metadata": {
        "id": "wBnxJZKgqPk1"
      },
      "source": [
        "Comando enumerate: contar elemento por elemento."
      ]
    },
    {
      "cell_type": "code",
      "metadata": {
        "colab": {
          "base_uri": "https://localhost:8080/"
        },
        "id": "l6xy4Dn2uF9g",
        "outputId": "ee9be1d4-d6f2-4640-d20c-725286de3314"
      },
      "source": [
        "print('Notas AOP1 dos 5 primeiros alunos:')\n",
        "for nota in (AOP1[:5]):\n",
        "  print(f'Aluno: {nota: .1f}')"
      ],
      "execution_count": null,
      "outputs": [
        {
          "output_type": "stream",
          "name": "stdout",
          "text": [
            "Notas AOP1 dos 5 primeiros alunos:\n",
            "Aluno:  0.4\n",
            "Aluno:  0.4\n",
            "Aluno:  0.5\n",
            "Aluno:  0.5\n",
            "Aluno:  0.5\n"
          ]
        }
      ]
    },
    {
      "cell_type": "code",
      "metadata": {
        "id": "MzgnR4Nf6R9B",
        "colab": {
          "base_uri": "https://localhost:8080/"
        },
        "outputId": "fd9ab627-1996-4279-95da-3eebb13698ac"
      },
      "source": [
        "print('Notas AOP1 dos 5 primeiros alunos:')\n",
        "for index, nota in enumerate (AOP1[:5]):\n",
        "  print(f'Aluno {index + 1}: {nota: .1f}')"
      ],
      "execution_count": null,
      "outputs": [
        {
          "output_type": "stream",
          "name": "stdout",
          "text": [
            "Notas AOP1 dos 5 primeiros alunos:\n",
            "Aluno 1:  0.4\n",
            "Aluno 2:  0.4\n",
            "Aluno 3:  0.5\n",
            "Aluno 4:  0.5\n",
            "Aluno 5:  0.5\n"
          ]
        }
      ]
    },
    {
      "cell_type": "markdown",
      "metadata": {
        "id": "d9Ny9jcB9FD8"
      },
      "source": [
        "## Modelagem de problemas computacionais 2D: MATRIZ"
      ]
    },
    {
      "cell_type": "markdown",
      "metadata": {
        "id": "3X4CwL0p9IRb"
      },
      "source": [
        "<center>\n",
        "\n",
        "![image.png](data:image/png;base64,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)\n",
        "\n",
        "</center>"
      ]
    },
    {
      "cell_type": "code",
      "metadata": {
        "id": "hg7BI9tE-WzL",
        "colab": {
          "base_uri": "https://localhost:8080/"
        },
        "outputId": "b2bca949-e338-45d9-ddac-d9a3b5ef36a0"
      },
      "source": [
        "LINHAS = 50\n",
        "COLUNAS = 5\n",
        "dataset = numpy.zeros((LINHAS, COLUNAS))\n",
        "dataset.shape    # ATRIBUTO SHAPE: FORMA (2D): LINHAS: 50 COLUNAS: 5"
      ],
      "execution_count": null,
      "outputs": [
        {
          "output_type": "execute_result",
          "data": {
            "text/plain": [
              "(50, 5)"
            ]
          },
          "metadata": {},
          "execution_count": 39
        }
      ]
    },
    {
      "cell_type": "code",
      "metadata": {
        "id": "swP7-u1zvGja"
      },
      "source": [
        "dataset"
      ],
      "execution_count": null,
      "outputs": []
    },
    {
      "cell_type": "code",
      "metadata": {
        "id": "qYcfpW9K-uW6",
        "colab": {
          "base_uri": "https://localhost:8080/"
        },
        "outputId": "efc3c1fd-8584-4ed4-e903-3cee8379b365"
      },
      "source": [
        "dataset[:, 0] = numpy.random.normal(0.7, 0.1, LINHAS) # AOP1\n",
        "dataset[:, 1] = numpy.random.normal(1.5, 0.2, LINHAS) # AOP2\n",
        "dataset[:, 2] = numpy.random.normal(0.7, 0.1, LINHAS) # AOP3\n",
        "dataset[:, 3] = numpy.random.normal(5.0, 0.1, LINHAS) # PR\n",
        "dataset"
      ],
      "execution_count": null,
      "outputs": [
        {
          "output_type": "execute_result",
          "data": {
            "text/plain": [
              "array([[0.99667298, 1.46889553, 0.54694445, 4.87230757, 0.        ],\n",
              "       [0.66691079, 1.31913584, 0.69591454, 4.89766895, 0.        ],\n",
              "       [0.81603665, 1.7743529 , 0.52231706, 5.02386116, 0.        ],\n",
              "       [0.74182427, 1.62294019, 0.81033807, 5.14310792, 0.        ],\n",
              "       [0.70011305, 1.2717666 , 0.88929245, 5.07393758, 0.        ],\n",
              "       [0.76340928, 1.51209557, 0.64721744, 5.06334555, 0.        ],\n",
              "       [0.84360015, 1.32849331, 0.64509512, 4.92294541, 0.        ],\n",
              "       [0.69066852, 1.48818881, 0.91912973, 4.99863459, 0.        ],\n",
              "       [0.60641404, 1.38827582, 0.86362492, 5.03634002, 0.        ],\n",
              "       [0.83756599, 1.51881885, 0.68740165, 4.99358812, 0.        ],\n",
              "       [0.76976318, 1.52860672, 0.81783338, 4.69504682, 0.        ],\n",
              "       [0.67745175, 1.7053581 , 0.65513845, 5.00284739, 0.        ],\n",
              "       [0.62867667, 1.64850171, 0.74869726, 4.89982221, 0.        ],\n",
              "       [0.61989431, 1.27638855, 0.67416356, 4.98829318, 0.        ],\n",
              "       [0.53942092, 1.43154854, 0.5802095 , 4.92751387, 0.        ],\n",
              "       [0.64682091, 1.40951283, 0.6731927 , 5.04298222, 0.        ],\n",
              "       [0.79279891, 1.49120268, 0.67873708, 4.96152674, 0.        ],\n",
              "       [0.57996025, 1.48289854, 0.79885187, 5.09892117, 0.        ],\n",
              "       [0.70687015, 1.63681099, 0.80784316, 4.86752877, 0.        ],\n",
              "       [0.65098241, 1.18280346, 0.85007015, 4.96092342, 0.        ],\n",
              "       [0.63251033, 1.68556375, 0.82203944, 4.97864405, 0.        ],\n",
              "       [0.54767786, 1.58200115, 0.68197044, 5.00953173, 0.        ],\n",
              "       [0.7250805 , 1.56893883, 0.69200204, 4.92209029, 0.        ],\n",
              "       [0.78330592, 1.38786791, 0.52628241, 5.2496458 , 0.        ],\n",
              "       [0.65785898, 1.31263007, 0.72686695, 4.6923296 , 0.        ],\n",
              "       [0.56645698, 1.08758071, 0.89429715, 5.20103663, 0.        ],\n",
              "       [0.70871057, 1.43107208, 0.54320938, 4.99372274, 0.        ],\n",
              "       [0.57811862, 1.37556384, 0.83971921, 4.94095314, 0.        ],\n",
              "       [0.71185334, 1.4314776 , 0.63974261, 4.91715233, 0.        ],\n",
              "       [0.93567839, 1.37753206, 0.72195861, 4.97541457, 0.        ],\n",
              "       [0.69115198, 1.67399645, 0.80892691, 5.18167242, 0.        ],\n",
              "       [0.66780279, 1.58038542, 0.52991743, 4.93319176, 0.        ],\n",
              "       [0.71141427, 1.45597636, 0.69952359, 5.17061954, 0.        ],\n",
              "       [0.70057434, 1.64960128, 0.69350527, 4.99926123, 0.        ],\n",
              "       [0.65970761, 1.34517252, 0.72550322, 5.12724046, 0.        ],\n",
              "       [0.5786599 , 1.23127914, 0.71130317, 5.13199048, 0.        ],\n",
              "       [0.85088908, 1.7946768 , 0.67175926, 4.93412585, 0.        ],\n",
              "       [0.51899524, 1.69795264, 0.76489579, 5.11893093, 0.        ],\n",
              "       [0.61970751, 1.47730401, 0.78569382, 4.85637242, 0.        ],\n",
              "       [0.48504592, 1.48226227, 0.71851029, 4.89221913, 0.        ],\n",
              "       [0.86895776, 1.6100773 , 0.66147376, 5.13804697, 0.        ],\n",
              "       [0.76144233, 0.93497202, 0.8443233 , 5.04059548, 0.        ],\n",
              "       [0.51784579, 1.07414849, 0.61309046, 4.9241352 , 0.        ],\n",
              "       [0.79261642, 1.34377863, 0.62189844, 5.10856749, 0.        ],\n",
              "       [0.87841049, 1.58027996, 0.89398812, 4.88848454, 0.        ],\n",
              "       [0.83534376, 1.38344915, 0.77859822, 4.89487586, 0.        ],\n",
              "       [0.79995423, 1.7436455 , 0.74088346, 4.95100116, 0.        ],\n",
              "       [0.65515362, 1.30727673, 0.80625089, 5.11821447, 0.        ],\n",
              "       [0.51937248, 1.60226438, 0.60647408, 4.98834253, 0.        ],\n",
              "       [0.74313676, 1.64443964, 0.80778814, 5.04582643, 0.        ]])"
            ]
          },
          "metadata": {},
          "execution_count": 41
        }
      ]
    },
    {
      "cell_type": "code",
      "metadata": {
        "colab": {
          "base_uri": "https://localhost:8080/"
        },
        "id": "_imWk0CEvov-",
        "outputId": "da740d00-7025-4577-dcc8-4d91091c34f0"
      },
      "source": [
        "dataset[0, :4]"
      ],
      "execution_count": null,
      "outputs": [
        {
          "output_type": "execute_result",
          "data": {
            "text/plain": [
              "array([0.99667298, 1.46889553, 0.54694445, 4.87230757])"
            ]
          },
          "metadata": {},
          "execution_count": 42
        }
      ]
    },
    {
      "cell_type": "code",
      "metadata": {
        "colab": {
          "base_uri": "https://localhost:8080/"
        },
        "id": "JBNsvXfpsidw",
        "outputId": "6545ced9-878e-4ebf-f9cf-72f61fa7f211"
      },
      "source": [
        "numpy.sum(dataset[0, :4])"
      ],
      "execution_count": null,
      "outputs": [
        {
          "output_type": "execute_result",
          "data": {
            "text/plain": [
              "7.884820529431082"
            ]
          },
          "metadata": {},
          "execution_count": 43
        }
      ]
    },
    {
      "cell_type": "code",
      "metadata": {
        "id": "0QtTnhbLAEpS",
        "colab": {
          "base_uri": "https://localhost:8080/"
        },
        "outputId": "e09e6e33-fbde-4650-de7b-b51947c7e0cd"
      },
      "source": [
        "# Todas as notas do aluno 1:\n",
        "dataset[0, :]"
      ],
      "execution_count": null,
      "outputs": [
        {
          "output_type": "execute_result",
          "data": {
            "text/plain": [
              "array([0.99667298, 1.46889553, 0.54694445, 4.87230757, 0.        ])"
            ]
          },
          "metadata": {},
          "execution_count": 46
        }
      ]
    },
    {
      "cell_type": "code",
      "metadata": {
        "id": "alnR51Lq_xdp",
        "colab": {
          "base_uri": "https://localhost:8080/"
        },
        "outputId": "521b5bea-111b-4bcd-e6ee-6989b82378e1"
      },
      "source": [
        "# FATIAMENTO - Média da AOP3: Todos os alunos ?\n",
        "dataset[:, 2].mean()"
      ],
      "execution_count": null,
      "outputs": [
        {
          "output_type": "execute_result",
          "data": {
            "text/plain": [
              "0.7216881677556591"
            ]
          },
          "metadata": {},
          "execution_count": 47
        }
      ]
    },
    {
      "cell_type": "markdown",
      "metadata": {
        "id": "MccDgO0w_g2s"
      },
      "source": [
        "### Funções do módulo NUMPY: MIN, MAX, MEAN, MEDIAN, STD, ...."
      ]
    },
    {
      "cell_type": "code",
      "metadata": {
        "id": "4mRpULcC_oyC",
        "colab": {
          "base_uri": "https://localhost:8080/"
        },
        "outputId": "5be8ba2c-c7d3-489e-f01c-54b52538bd45"
      },
      "source": [
        "mediaAOP1 = numpy.mean(dataset[:,0])\n",
        "mediaAOP1"
      ],
      "execution_count": null,
      "outputs": [
        {
          "output_type": "execute_result",
          "data": {
            "text/plain": [
              "0.6995857795356824"
            ]
          },
          "metadata": {},
          "execution_count": 48
        }
      ]
    },
    {
      "cell_type": "code",
      "source": [
        "notaMinimaAOP1 = dataset[:,0].min()\n",
        "notaMinimaAOP1"
      ],
      "metadata": {
        "colab": {
          "base_uri": "https://localhost:8080/"
        },
        "id": "MxuZEdsY1I7i",
        "outputId": "0714c6ef-2b8d-403d-d065-fcc5b514765f"
      },
      "execution_count": null,
      "outputs": [
        {
          "output_type": "execute_result",
          "data": {
            "text/plain": [
              "0.4850459171154802"
            ]
          },
          "metadata": {},
          "execution_count": 49
        }
      ]
    },
    {
      "cell_type": "code",
      "metadata": {
        "colab": {
          "base_uri": "https://localhost:8080/"
        },
        "id": "WC2dRD-8v_V5",
        "outputId": "f2db8bb4-85e2-40a2-e51d-1221a60f77d7"
      },
      "source": [
        "print('PAUTA DA TURMA:')\n",
        "for aluno in dataset[:3]:\n",
        "  print(f'AOP1: {aluno[0]: .1f}')\n",
        "  print(f'AOP2: {aluno[1]: .1f}')\n",
        "  print(f'AOP3: {aluno[2]: .1f}')\n",
        "  print(f'PROVA REGULAR: {aluno[3]: .1f}')\n",
        "  print('')"
      ],
      "execution_count": null,
      "outputs": [
        {
          "output_type": "stream",
          "name": "stdout",
          "text": [
            "PAUTA DA TURMA:\n",
            "AOP1:  1.0\n",
            "AOP2:  1.5\n",
            "AOP3:  0.5\n",
            "PROVA REGULAR:  4.9\n",
            "\n",
            "AOP1:  0.7\n",
            "AOP2:  1.3\n",
            "AOP3:  0.7\n",
            "PROVA REGULAR:  4.9\n",
            "\n",
            "AOP1:  0.8\n",
            "AOP2:  1.8\n",
            "AOP3:  0.5\n",
            "PROVA REGULAR:  5.0\n",
            "\n"
          ]
        }
      ]
    },
    {
      "cell_type": "code",
      "metadata": {
        "colab": {
          "base_uri": "https://localhost:8080/"
        },
        "id": "AEjg-HtfwynT",
        "outputId": "157628cd-33c9-4dd8-fd06-006255f78755"
      },
      "source": [
        "print('PAUTA DA TURMA:')\n",
        "for indice, aluno in enumerate(dataset[:3]):\n",
        "  print(f'ALUNO {indice + 1}:')\n",
        "  print(f'AOP1: {aluno[0]: .1f}')\n",
        "  print(f'AOP2: {aluno[1]: .1f}')\n",
        "  print(f'AOP3: {aluno[2]: .1f}')\n",
        "  print(f'PROVA REGULAR: {aluno[3]: .1f}')\n",
        "  print('')"
      ],
      "execution_count": null,
      "outputs": [
        {
          "output_type": "stream",
          "name": "stdout",
          "text": [
            "PAUTA DA TURMA:\n",
            "ALUNO 1:\n",
            "AOP1:  1.0\n",
            "AOP2:  1.5\n",
            "AOP3:  0.5\n",
            "PROVA REGULAR:  4.9\n",
            "\n",
            "ALUNO 2:\n",
            "AOP1:  0.7\n",
            "AOP2:  1.3\n",
            "AOP3:  0.7\n",
            "PROVA REGULAR:  4.9\n",
            "\n",
            "ALUNO 3:\n",
            "AOP1:  0.8\n",
            "AOP2:  1.8\n",
            "AOP3:  0.5\n",
            "PROVA REGULAR:  5.0\n",
            "\n"
          ]
        }
      ]
    },
    {
      "cell_type": "markdown",
      "metadata": {
        "id": "o2szV5qGcEvV"
      },
      "source": [
        "### Exercícios:\n",
        "\n",
        "Dado o DATASET: Notas da turma\n",
        "\n",
        "*   AOP1 [0, 1.0]: ATIVIDADE ONLINE PONTUADA 1\n",
        "\n",
        "*   AOP2 [0, 2.0]: ATIVIDADE ONLINE PONTUADA 2\n",
        "\n",
        "*   AOP3 [0, 1.0]: ATIVIDADE ONLINE PONTUADA 3\n",
        "\n",
        "*   PREG [0, 6.0]: PROVA REGULAR\n",
        "\n",
        "*   PREC [0, 10.0]: PROVA DE RECUPERAÇÃO\n",
        "\n",
        "**Faça:**"
      ]
    },
    {
      "cell_type": "markdown",
      "source": [
        "#### LEMBRANDO DO CÓDIGO:"
      ],
      "metadata": {
        "id": "1f2eJBkxN6AS"
      }
    },
    {
      "cell_type": "code",
      "metadata": {
        "id": "E6bKyfAwxtI_"
      },
      "source": [
        "dataset[:10, :]"
      ],
      "execution_count": null,
      "outputs": []
    },
    {
      "cell_type": "markdown",
      "source": [
        ""
      ],
      "metadata": {
        "id": "CyU-qTMyOFZk"
      }
    },
    {
      "cell_type": "markdown",
      "metadata": {
        "id": "Ki8HUuSsyIja"
      },
      "source": [
        "A) Exibir a nota final de todos os alunos desta turma?"
      ]
    },
    {
      "cell_type": "code",
      "metadata": {
        "id": "n4m4ADUSyRzZ"
      },
      "source": [
        ""
      ],
      "execution_count": null,
      "outputs": []
    },
    {
      "cell_type": "markdown",
      "source": [
        "#### Resposta"
      ],
      "metadata": {
        "id": "KZIle7dLMpUa"
      }
    },
    {
      "cell_type": "code",
      "source": [
        ""
      ],
      "metadata": {
        "id": "wsaMI6mkM0pU"
      },
      "execution_count": null,
      "outputs": []
    },
    {
      "cell_type": "code",
      "source": [
        ""
      ],
      "metadata": {
        "id": "3LTx7St6Nkty"
      },
      "execution_count": null,
      "outputs": []
    },
    {
      "cell_type": "code",
      "source": [
        ""
      ],
      "metadata": {
        "id": "QNEbud9gNmxy"
      },
      "execution_count": null,
      "outputs": []
    },
    {
      "cell_type": "markdown",
      "metadata": {
        "id": "DsBPVUrkyTar"
      },
      "source": [
        "B) Exibir os alunos APROVADOS (Nota final = AOP1 + AOP2 + APO3 + PROVA REGULAR >= 7.0):"
      ]
    },
    {
      "cell_type": "code",
      "metadata": {
        "id": "h7ze_fjyyiYe"
      },
      "source": [
        ""
      ],
      "execution_count": null,
      "outputs": []
    },
    {
      "cell_type": "markdown",
      "source": [
        "#### Resposta"
      ],
      "metadata": {
        "id": "Ml690FptM3II"
      }
    },
    {
      "cell_type": "code",
      "source": [
        ""
      ],
      "metadata": {
        "id": "Qaw98nABM3IJ"
      },
      "execution_count": null,
      "outputs": []
    },
    {
      "cell_type": "markdown",
      "metadata": {
        "id": "TlbThDUWylPB"
      },
      "source": [
        "C) Exibir os alunos PROVA RECUPERAÇÃO (Nota final = AOP1 + AOP2 + APO3 + PROVA REGULAR < 7.0):"
      ]
    },
    {
      "cell_type": "code",
      "metadata": {
        "id": "uy9IIGO_ysBh"
      },
      "source": [
        ""
      ],
      "execution_count": null,
      "outputs": []
    },
    {
      "cell_type": "markdown",
      "source": [
        "#### Resposta"
      ],
      "metadata": {
        "id": "o-1jOhoJM39n"
      }
    },
    {
      "cell_type": "code",
      "source": [
        ""
      ],
      "metadata": {
        "id": "MMzUpESZM39o"
      },
      "execution_count": null,
      "outputs": []
    },
    {
      "cell_type": "markdown",
      "metadata": {
        "id": "0MeSh_6LzGVJ"
      },
      "source": [
        "D) Exibir a quantidade de alunos PROVA RECUPERAÇÃO?"
      ]
    },
    {
      "cell_type": "code",
      "metadata": {
        "id": "SPrT-2XKzLVn"
      },
      "source": [
        ""
      ],
      "execution_count": null,
      "outputs": []
    },
    {
      "cell_type": "markdown",
      "source": [
        "#### Resposta"
      ],
      "metadata": {
        "id": "hXCxsivNM4dL"
      }
    },
    {
      "cell_type": "code",
      "source": [
        ""
      ],
      "metadata": {
        "id": "1CdMsScbM4dM"
      },
      "execution_count": null,
      "outputs": []
    },
    {
      "cell_type": "markdown",
      "metadata": {
        "id": "ECl_k7WZcH0S"
      },
      "source": [
        "### Nota da turma:"
      ]
    },
    {
      "cell_type": "code",
      "metadata": {
        "id": "l51-9e4gcPw1",
        "colab": {
          "base_uri": "https://localhost:8080/"
        },
        "outputId": "f81abd15-8b19-497b-969f-c6b950d939a6"
      },
      "source": [
        "print('RELATÓRIO: NOSTAS DO MÓDULO: ')\n",
        "for index, aluno in enumerate(dataset[:5, :4]):\n",
        "  print(f'Nota Aluno {index + 1}: {aluno.sum(): .1f}')"
      ],
      "execution_count": null,
      "outputs": [
        {
          "output_type": "stream",
          "text": [
            "RELATÓRIO: NOSTAS DO MÓDULO: \n",
            "Nota Aluno 1:  8.3\n",
            "Nota Aluno 2:  8.2\n",
            "Nota Aluno 3:  8.0\n",
            "Nota Aluno 4:  7.9\n",
            "Nota Aluno 5:  7.8\n"
          ],
          "name": "stdout"
        }
      ]
    },
    {
      "cell_type": "markdown",
      "metadata": {
        "id": "Qd_XKh9o-fd7"
      },
      "source": [
        "# APRENDA +++: Python"
      ]
    },
    {
      "cell_type": "markdown",
      "metadata": {
        "id": "gXzoy0cRzssO"
      },
      "source": [
        "**IMPORTANTO CLASSES:** OBJETO = ATRIBUTOS + MÉTODOS"
      ]
    },
    {
      "cell_type": "code",
      "metadata": {
        "id": "-z3NCu2Gzroa"
      },
      "source": [
        "import math as mt"
      ],
      "execution_count": null,
      "outputs": []
    },
    {
      "cell_type": "code",
      "metadata": {
        "colab": {
          "base_uri": "https://localhost:8080/"
        },
        "id": "o7kwQ4HfzkmN",
        "outputId": "fbd8a926-eb5f-4dba-93d8-eb7300b4c102"
      },
      "source": [
        "# OBJETO: ATRIBUTO (VALOR)\n",
        "mt.pi"
      ],
      "execution_count": null,
      "outputs": [
        {
          "output_type": "execute_result",
          "data": {
            "text/plain": [
              "3.141592653589793"
            ]
          },
          "metadata": {},
          "execution_count": 76
        }
      ]
    },
    {
      "cell_type": "code",
      "metadata": {
        "colab": {
          "base_uri": "https://localhost:8080/"
        },
        "id": "v20Eh37Z0N-f",
        "outputId": "b183fcf5-8b47-4950-8adf-606d54ed6e5a"
      },
      "source": [
        "# OBJETO: MÉTODO (FUNÇÃO)\n",
        "mt.sqrt(mt.pi)"
      ],
      "execution_count": null,
      "outputs": [
        {
          "output_type": "execute_result",
          "data": {
            "text/plain": [
              "1.7724538509055159"
            ]
          },
          "metadata": {},
          "execution_count": 77
        }
      ]
    },
    {
      "cell_type": "markdown",
      "metadata": {
        "id": "9ubEQ5yPRBad"
      },
      "source": [
        "IDE (Integrated Development Environment) ou Ambiente de Programação Integrada.\n",
        "\n",
        "$\\mapsto$ **IDE 1: NOTEBOOK JUPYTER** (offline): https://anaconda.org/\n",
        "\n",
        "$\\mapsto$  **IDE 2: COLABORATORY GOOGLE** (online): https://colab.research.google.com/\n",
        "\n",
        "$\\mapsto$ **IDE 3: PYCHARM** (offline): https://www.jetbrains.com/\n",
        "\n",
        "Fontes de Pesquisa e aprofundamento Python:\n",
        "\n",
        "**Numeric Python - NUMPY - (Site oficial):** [clique aqui!](https://numpy.org)\n",
        "\n",
        "$\\mapsto$  **LISTA DE EXERCÍCIO COMPLEMENTAR (Hard Level)**: https://www.jetbrains.com/"
      ]
    }
  ]
}